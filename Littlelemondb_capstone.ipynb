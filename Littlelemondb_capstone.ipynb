{
 "cells": [
  {
   "cell_type": "code",
   "execution_count": 36,
   "id": "76fa3b1a-a73d-4970-b372-3802cf3d919b",
   "metadata": {},
   "outputs": [],
   "source": [
    "\n",
    "import getpass\n",
    "import pandas as pd"
   ]
  },
  {
   "cell_type": "code",
   "execution_count": 7,
   "id": "9dd0ec8d-947b-40fc-b32f-64748be03c17",
   "metadata": {},
   "outputs": [],
   "source": [
    "import mysql.connector as connector"
   ]
  },
  {
   "cell_type": "code",
   "execution_count": 18,
   "id": "8c7663e4-f763-4cd7-80f2-3700bee67037",
   "metadata": {},
   "outputs": [
    {
     "name": "stdin",
     "output_type": "stream",
     "text": [
      "Password: ········\n"
     ]
    }
   ],
   "source": [
    "connection = connector.connect(username = \"root\",\n",
    "                               password = getpass.getpass(\"Password:\"),\n",
    "                               db = \"littlelemondb\"\n",
    ")"
   ]
  },
  {
   "cell_type": "code",
   "execution_count": 24,
   "id": "21850169-cf3b-43a8-b08b-2f01be02cb62",
   "metadata": {},
   "outputs": [],
   "source": [
    "cursor = connection.cursor()"
   ]
  },
  {
   "cell_type": "code",
   "execution_count": 25,
   "id": "15faa925-b596-409d-90d6-3546d8d45b35",
   "metadata": {},
   "outputs": [],
   "source": [
    "show_table_query =\"SHOW TABLES\"\n",
    "cursor.execute (show_table_query)"
   ]
  },
  {
   "cell_type": "code",
   "execution_count": 34,
   "id": "1f93efb4-a6a5-45cf-bba2-fdb5bdf972dc",
   "metadata": {},
   "outputs": [
    {
     "name": "stdout",
     "output_type": "stream",
     "text": [
      "bookings\n",
      "customers\n",
      "employees\n",
      "locations\n",
      "menuitems\n",
      "order_item_history\n",
      "orderdeliverystatus\n",
      "orderitems\n",
      "orders\n",
      "ordersview\n",
      "report_to_csv_view\n"
     ]
    }
   ],
   "source": [
    "show_table_query = \"SHOW TABLES\"\n",
    "cursor.execute(show_table_query)\n",
    "result = cursor.fetchall()\n",
    "for table in result:\n",
    "    print(table[0])  # Print table name directly"
   ]
  },
  {
   "cell_type": "code",
   "execution_count": 30,
   "id": "2b5ddebf-393d-41a2-a5b0-003238767efe",
   "metadata": {},
   "outputs": [
    {
     "name": "stdout",
     "output_type": "stream",
     "text": [
      "Current database: ('littlelemondb',)\n"
     ]
    }
   ],
   "source": [
    "show_db_query = \"SELECT DATABASE();\"\n",
    "cursor.execute(show_db_query)\n",
    "db_name = cursor.fetchone()\n",
    "print(f\"Current database: {db_name}\")"
   ]
  },
  {
   "cell_type": "code",
   "execution_count": 37,
   "id": "bf711b25-5264-48de-9e1b-f8f5c0753aa3",
   "metadata": {},
   "outputs": [
    {
     "name": "stdout",
     "output_type": "stream",
     "text": [
      "    CustomerID     CustomerName      PhoneNo                     Email  \\\n",
      "0            1  Aisha Abdullahi  08012345678         aisha@example.com   \n",
      "1            1  Aisha Abdullahi  08012345678         aisha@example.com   \n",
      "2            1  Aisha Abdullahi  08012345678         aisha@example.com   \n",
      "3            1  Aisha Abdullahi  08012345678         aisha@example.com   \n",
      "4            2  Olamide Olawale  07098765432       olamide@example.com   \n",
      "5            2  Olamide Olawale  07098765432       olamide@example.com   \n",
      "6            3   Chinelo Chukwu  09087654321       chinelo@example.com   \n",
      "7            3   Chinelo Chukwu  09087654321       chinelo@example.com   \n",
      "8            4     Nneoma Nwosu  08076543210        nneoma@example.com   \n",
      "9            5     Bola Balogun  07065432109          bola@example.com   \n",
      "10           6     Funmi Falola  09054321098         funmi@example.com   \n",
      "11           7     Mateo Garcia  08012345678         mateo@example.com   \n",
      "12           8    Lusungu Banda  07098765432       lusungu@example.com   \n",
      "13           9     Nour Elsayed  09087654321          nour@example.com   \n",
      "14          10      Chenai Moyo  08076543210        chenai@example.com   \n",
      "15          11      Johan Smith  07065432109         johan@example.com   \n",
      "16          12       Fatou Diop  09054321098         fatou@example.com   \n",
      "17          13       Liam Brown  08043210987          liam@example.com   \n",
      "18          14     Aisha Mwangi  07032109876  aisha.mwangi@example.com   \n",
      "19          15      Sara Jensen  09021098765          sara@example.com   \n",
      "20          16       Yusuf Khan  08010987654         yusuf@example.com   \n",
      "21          17     Thembi Nkosi  07098712345        thembi@example.com   \n",
      "22          18     Amira Hassan  09087623456         amira@example.com   \n",
      "23          19       Kofi Owusu  08076534567          kofi@example.com   \n",
      "24          20   Malaika Pierre  07065445678       malaika@example.com   \n",
      "25          21     Diego Rivera  09054356789         diego@example.com   \n",
      "26          22       Emily Chen   4151234567         emily@example.com   \n",
      "27          23     James Wilson   2129876543         james@example.com   \n",
      "28          24   Sophie Laurent   5147654321        sophie@example.com   \n",
      "\n",
      "    EmployeeID  location_id  OrderID   OrderDate Total_Cost  StatusID  \\\n",
      "0            1            1     1001  2020-01-01       3500         1   \n",
      "1            1            1     1003  2020-01-03       1500         1   \n",
      "2            1            1     1006  2020-01-06       2000         2   \n",
      "3            1            1     1009  2020-01-09       2500         2   \n",
      "4            2            2     1002  2020-01-02       5000         2   \n",
      "5            2            2     1005  2020-01-05       4000         1   \n",
      "6            3            3     1004  2020-01-04       2500         3   \n",
      "7            3            3     1007  2020-01-07       3000         3   \n",
      "8            4            4     1008  2020-01-08       4500         1   \n",
      "9            5            5     1010  2020-01-10       1200         1   \n",
      "10           6            6     1011  2020-01-11       1800         2   \n",
      "11           1            7     1012  2020-01-12       3200         1   \n",
      "12           2            8     1013  2020-01-13       2800         3   \n",
      "13           3            9     1014  2020-01-14       1900         1   \n",
      "14           4           10     1015  2020-01-15       2100         2   \n",
      "15           5           11     1016  2020-01-16       3500         1   \n",
      "16           6           12     1017  2020-01-17       1500         3   \n",
      "17           1           13     1018  2020-01-18       2200         1   \n",
      "18           2           14     1019  2020-01-19       3800         2   \n",
      "19           3           15     1020  2020-01-20       1400         1   \n",
      "20           4           16     1021  2020-01-21       2600         3   \n",
      "21           5           17     1022  2020-01-22       3000         1   \n",
      "22           6           18     1023  2020-01-23       1600         2   \n",
      "23           1           19     1024  2020-01-24       4000         1   \n",
      "24           2           20     1025  2020-01-25       2000         2   \n",
      "25           3           21     1026  2020-01-26       3400         1   \n",
      "26           1            1     1027  2020-01-27       1100         3   \n",
      "27           2            2     1028  2020-01-28       2900         1   \n",
      "28           1            4     1029  2020-01-29       2300         2   \n",
      "\n",
      "    CustomerID  \n",
      "0            1  \n",
      "1            1  \n",
      "2            1  \n",
      "3            1  \n",
      "4            2  \n",
      "5            2  \n",
      "6            3  \n",
      "7            3  \n",
      "8            4  \n",
      "9            5  \n",
      "10           6  \n",
      "11           7  \n",
      "12           8  \n",
      "13           9  \n",
      "14          10  \n",
      "15          11  \n",
      "16          12  \n",
      "17          13  \n",
      "18          14  \n",
      "19          15  \n",
      "20          16  \n",
      "21          17  \n",
      "22          18  \n",
      "23          19  \n",
      "24          20  \n",
      "25          21  \n",
      "26          22  \n",
      "27          23  \n",
      "28          24  \n"
     ]
    }
   ],
   "source": [
    "cursor.execute(\"\"\"SELECT CustomerName, FROM customers c\n",
    "JOIN orders o ON c.CustomerID = o.CustomerID\"\"\")\n",
    "columns = cursor.column_names\n",
    "results = cursor.fetchall()\n",
    "df = pd.DataFrame(results, columns=columns)\n",
    "print(df)"
   ]
  },
  {
   "cell_type": "code",
   "execution_count": 38,
   "id": "fe3c11c6-214d-4c49-81bf-5b63b8b0fafe",
   "metadata": {},
   "outputs": [
    {
     "name": "stdout",
     "output_type": "stream",
     "text": [
      "       CustomerName Total_Cost\n",
      "0   Aisha Abdullahi       3500\n",
      "1   Olamide Olawale       5000\n",
      "2   Aisha Abdullahi       1500\n",
      "3    Chinelo Chukwu       2500\n",
      "4   Olamide Olawale       4000\n",
      "5   Aisha Abdullahi       2000\n",
      "6    Chinelo Chukwu       3000\n",
      "7      Nneoma Nwosu       4500\n",
      "8   Aisha Abdullahi       2500\n",
      "9      Bola Balogun       1200\n",
      "10     Funmi Falola       1800\n",
      "11     Mateo Garcia       3200\n",
      "12    Lusungu Banda       2800\n",
      "13     Nour Elsayed       1900\n",
      "14      Chenai Moyo       2100\n",
      "15      Johan Smith       3500\n",
      "16       Fatou Diop       1500\n",
      "17       Liam Brown       2200\n",
      "18     Aisha Mwangi       3800\n",
      "19      Sara Jensen       1400\n",
      "20       Yusuf Khan       2600\n",
      "21     Thembi Nkosi       3000\n",
      "22     Amira Hassan       1600\n",
      "23       Kofi Owusu       4000\n",
      "24   Malaika Pierre       2000\n",
      "25     Diego Rivera       3400\n",
      "26       Emily Chen       1100\n",
      "27     James Wilson       2900\n",
      "28   Sophie Laurent       2300\n"
     ]
    }
   ],
   "source": [
    "cursor.execute(\"\"\"SELECT c.CustomerName, o.Total_Cost FROM customers c\n",
    "JOIN orders o ON c.CustomerID = o.CustomerID WHERE Total_Cost > 60\"\"\")\n",
    "columns = cursor.column_names\n",
    "results = cursor.fetchall()\n",
    "df = pd.DataFrame(results, columns=columns)\n",
    "print(df)"
   ]
  },
  {
   "cell_type": "code",
   "execution_count": null,
   "id": "0603e342-d4fa-4483-aa9c-4c0072b8d35f",
   "metadata": {},
   "outputs": [],
   "source": []
  },
  {
   "cell_type": "code",
   "execution_count": null,
   "id": "13c6c35a-7828-4c0c-a37e-ed0dfbb97094",
   "metadata": {},
   "outputs": [],
   "source": []
  }
 ],
 "metadata": {
  "kernelspec": {
   "display_name": "Python 3 (ipykernel)",
   "language": "python",
   "name": "python3"
  },
  "language_info": {
   "codemirror_mode": {
    "name": "ipython",
    "version": 3
   },
   "file_extension": ".py",
   "mimetype": "text/x-python",
   "name": "python",
   "nbconvert_exporter": "python",
   "pygments_lexer": "ipython3",
   "version": "3.12.3"
  }
 },
 "nbformat": 4,
 "nbformat_minor": 5
}
